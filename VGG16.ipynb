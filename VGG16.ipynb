{
 "cells": [
  {
   "cell_type": "markdown",
   "metadata": {},
   "source": [
    "# Implementing VGG-16 in Python using PyTorch"
   ]
  },
  {
   "cell_type": "markdown",
   "metadata": {},
   "source": [
    "## Importing libraries"
   ]
  },
  {
   "cell_type": "code",
   "execution_count": 6,
   "metadata": {
    "execution": {
     "iopub.execute_input": "2021-12-20T15:47:34.538407Z",
     "iopub.status.busy": "2021-12-20T15:47:34.538128Z",
     "iopub.status.idle": "2021-12-20T15:47:34.544426Z",
     "shell.execute_reply": "2021-12-20T15:47:34.543264Z",
     "shell.execute_reply.started": "2021-12-20T15:47:34.538369Z"
    }
   },
   "outputs": [],
   "source": [
    "import torch\n",
    "import torchvision\n",
    "import torchvision.transforms as transforms\n",
    "\n",
    "my_transform = transforms.Compose(\n",
    "                      [transforms.Resize((224,224)),\n",
    "                      transforms.ToTensor(),\n",
    "                      transforms.Normalize((0.5, 0.5, 0.5), (0.5, 0.5, 0.5))])"
   ]
  },
  {
   "cell_type": "markdown",
   "metadata": {},
   "source": [
    "## Defining model"
   ]
  },
  {
   "cell_type": "code",
   "execution_count": 7,
   "metadata": {
    "execution": {
     "iopub.execute_input": "2021-12-20T15:47:34.546637Z",
     "iopub.status.busy": "2021-12-20T15:47:34.546150Z",
     "iopub.status.idle": "2021-12-20T15:47:34.559290Z",
     "shell.execute_reply": "2021-12-20T15:47:34.558535Z",
     "shell.execute_reply.started": "2021-12-20T15:47:34.546600Z"
    }
   },
   "outputs": [],
   "source": [
    "import torch.nn as nn\n",
    "\n",
    "in_size = 3\n",
    "out_size = 24"
   ]
  },
  {
   "cell_type": "code",
   "execution_count": 8,
   "metadata": {
    "execution": {
     "iopub.execute_input": "2021-12-20T15:47:34.562835Z",
     "iopub.status.busy": "2021-12-20T15:47:34.562585Z",
     "iopub.status.idle": "2021-12-20T15:47:34.590541Z",
     "shell.execute_reply": "2021-12-20T15:47:34.589784Z",
     "shell.execute_reply.started": "2021-12-20T15:47:34.562811Z"
    }
   },
   "outputs": [],
   "source": [
    "class VGG_16(nn.Module):\n",
    "    def __init__(self):\n",
    "        super(VGG_16, self).__init__()\n",
    "\n",
    "        #224x224x3 image\n",
    "        self.conv1 = nn.Sequential(\n",
    "            nn.Conv2d(in_size, 64, kernel_size=(3, 3), stride=(1, 1), padding=(1, 1)),\n",
    "            nn.BatchNorm2d(64),\n",
    "            nn.ReLU(),\n",
    "            nn.Conv2d(64, 64, kernel_size=(3, 3), stride=(1, 1), padding=(1, 1)),\n",
    "            nn.BatchNorm2d(64),\n",
    "            nn.ReLU(),\n",
    "            nn.MaxPool2d(kernel_size=2, stride=2))\n",
    "\n",
    "        #112x112x128 image\n",
    "        self.conv2 = nn.Sequential(\n",
    "            nn.Conv2d(64, 128, kernel_size=(3, 3), stride=(1, 1), padding=(1, 1)),\n",
    "            nn.BatchNorm2d(128),\n",
    "            nn.ReLU(),\n",
    "            nn.Conv2d(128, 128, kernel_size=(3, 3), stride=(1, 1), padding=(1, 1)),\n",
    "            nn.BatchNorm2d(128),\n",
    "            nn.ReLU(),\n",
    "            nn.MaxPool2d(kernel_size=2, stride=2))\n",
    "\n",
    "        #56x56x256 image\n",
    "        self.conv3 = nn.Sequential(\n",
    "            nn.Conv2d(128, 256, kernel_size=(3, 3), stride=(1, 1), padding=(1, 1)),\n",
    "            nn.BatchNorm2d(256),\n",
    "            nn.ReLU(),\n",
    "            nn.Conv2d(256, 256, kernel_size=(3, 3), stride=(1, 1), padding=(1, 1)),\n",
    "            nn.BatchNorm2d(256),\n",
    "            nn.ReLU(),\n",
    "            nn.Conv2d(256, 256, kernel_size=(3, 3), stride=(1, 1), padding=(1, 1)),\n",
    "            nn.BatchNorm2d(256),\n",
    "            nn.ReLU(),\n",
    "            nn.Conv2d(256, 256, kernel_size=(3, 3), stride=(1, 1), padding=(1, 1)),\n",
    "            nn.BatchNorm2d(256),\n",
    "            nn.ReLU(),\n",
    "            nn.MaxPool2d(kernel_size=2, stride=2))\n",
    "\n",
    "        #28x28x512 image\n",
    "        self.conv4 = nn.Sequential(\n",
    "            nn.Conv2d(256, 512, kernel_size=(3, 3), stride=(1, 1), padding=(1, 1)),\n",
    "            nn.BatchNorm2d(512),\n",
    "            nn.ReLU(),\n",
    "            nn.Conv2d(512, 512, kernel_size=(3, 3), stride=(1, 1), padding=(1, 1)),\n",
    "            nn.BatchNorm2d(512),\n",
    "            nn.ReLU(),\n",
    "            nn.Conv2d(512, 512, kernel_size=(3, 3), stride=(1, 1), padding=(1, 1)),\n",
    "            nn.BatchNorm2d(512),\n",
    "            nn.ReLU(),\n",
    "            nn.Conv2d(512, 512, kernel_size=(3, 3), stride=(1, 1), padding=(1, 1)),\n",
    "            nn.BatchNorm2d(512),\n",
    "            nn.ReLU(),\n",
    "            nn.MaxPool2d(kernel_size=2, stride=2))\n",
    "\n",
    "        #14x14x512 image\n",
    "        self.conv5 = nn.Sequential(\n",
    "            nn.Conv2d(512, 512, kernel_size=(3, 3), stride=(1, 1), padding=(1, 1)),\n",
    "            nn.BatchNorm2d(512),\n",
    "            nn.ReLU(),\n",
    "            nn.Conv2d(512, 512, kernel_size=(3, 3), stride=(1, 1), padding=(1, 1)),\n",
    "            nn.BatchNorm2d(512),\n",
    "            nn.ReLU(),\n",
    "            nn.Conv2d(512, 512, kernel_size=(3, 3), stride=(1, 1), padding=(1, 1)),\n",
    "            nn.BatchNorm2d(512),\n",
    "            nn.ReLU(),\n",
    "            nn.Conv2d(512, 512, kernel_size=(3, 3), stride=(1, 1), padding=(1, 1)),\n",
    "            nn.BatchNorm2d(512),\n",
    "            nn.ReLU(),\n",
    "            nn.MaxPool2d(kernel_size=2, stride=2))\n",
    "    \n",
    "        #7x7x512 image\n",
    "        self.fc1 = nn.Linear(7*7*512, 4096)\n",
    "        self.r1 = nn.ReLU()\n",
    "        self.d1 = nn.Dropout(p=0.5)\n",
    "        self.fc2 = nn.Linear(4096, 4096)\n",
    "        self.r2 = nn.ReLU()\n",
    "        self.d2 = nn.Dropout(p=0.5)\n",
    "        self.fc3 = nn.Linear(4096, out_size)\n",
    "        self.sm = nn.Softmax(dim=1)\n",
    "        \n",
    "    def forward(self, x):\n",
    "        out = self.conv1(x)\n",
    "        out = self.conv2(out)\n",
    "        out = self.conv3(out)\n",
    "        out = self.conv4(out)\n",
    "        out = self.conv5(out)\n",
    "        out = out.reshape(out.shape[0], -1)\n",
    "        out = self.fc1(out)\n",
    "        out = self.r1(out)\n",
    "        out = self.d1(out)\n",
    "        out = self.fc2(out)\n",
    "        out = self.r2(out)\n",
    "        out = self.d2(out)\n",
    "        out = self.fc3(out)\n",
    "#         out = self.sm(out)\n",
    "        return out"
   ]
  },
  {
   "cell_type": "markdown",
   "metadata": {},
   "source": [
    "## Loading dataset (fruits-360, 24 classes)"
   ]
  },
  {
   "cell_type": "code",
   "execution_count": 9,
   "metadata": {
    "execution": {
     "iopub.execute_input": "2021-12-20T15:47:34.593343Z",
     "iopub.status.busy": "2021-12-20T15:47:34.593006Z",
     "iopub.status.idle": "2021-12-20T15:47:36.532098Z",
     "shell.execute_reply": "2021-12-20T15:47:36.531397Z",
     "shell.execute_reply.started": "2021-12-20T15:47:34.593303Z"
    }
   },
   "outputs": [],
   "source": [
    "trainset = torchvision.datasets.ImageFolder(root='/kaggle/input/fruits/fruits-360-original-size/fruits-360-original-size/Training/', transform=my_transform)\n",
    "trainloader = torch.utils.data.DataLoader(trainset,\n",
    "                                          num_workers=2,\n",
    "                                          batch_size=32,\n",
    "                                          shuffle=True)\n",
    "testset = torchvision.datasets.ImageFolder(root='/kaggle/input/fruits/fruits-360-original-size/fruits-360-original-size/Test/', transform=my_transform)\n",
    "testloader = torch.utils.data.DataLoader(testset,\n",
    "                                         num_workers=2,\n",
    "                                         batch_size=32,\n",
    "                                         shuffle=False)\n",
    "\n",
    "model = VGG_16().to('cuda')\n",
    "\n",
    "learning_rate = 0.001\n",
    "\n",
    "criterion = nn.CrossEntropyLoss()\n",
    "\n",
    "optimizer = torch.optim.SGD(model.parameters(), lr=learning_rate, momentum=0.9)"
   ]
  },
  {
   "cell_type": "markdown",
   "metadata": {},
   "source": [
    "## Training the model"
   ]
  },
  {
   "cell_type": "code",
   "execution_count": 11,
   "metadata": {
    "execution": {
     "iopub.execute_input": "2021-12-20T15:50:12.254765Z",
     "iopub.status.busy": "2021-12-20T15:50:12.254494Z",
     "iopub.status.idle": "2021-12-20T15:55:28.272621Z",
     "shell.execute_reply": "2021-12-20T15:55:28.271577Z",
     "shell.execute_reply.started": "2021-12-20T15:50:12.254737Z"
    }
   },
   "outputs": [
    {
     "name": "stdout",
     "output_type": "stream",
     "text": [
      "Epoch [1/5], Step [20/195], Loss: 0.0244\n",
      "Epoch [1/5], Step [40/195], Loss: 0.0253\n",
      "Epoch [1/5], Step [60/195], Loss: 0.0165\n",
      "Epoch [1/5], Step [80/195], Loss: 0.0410\n",
      "Epoch [1/5], Step [100/195], Loss: 0.0024\n",
      "Epoch [1/5], Step [120/195], Loss: 0.0088\n",
      "Epoch [1/5], Step [140/195], Loss: 0.0069\n",
      "Epoch [1/5], Step [160/195], Loss: 0.0380\n",
      "Epoch [1/5], Step [180/195], Loss: 0.0170\n",
      "Epoch [2/5], Step [20/195], Loss: 0.0040\n",
      "Epoch [2/5], Step [40/195], Loss: 0.0105\n",
      "Epoch [2/5], Step [60/195], Loss: 0.0083\n",
      "Epoch [2/5], Step [80/195], Loss: 0.1958\n",
      "Epoch [2/5], Step [100/195], Loss: 0.0111\n",
      "Epoch [2/5], Step [120/195], Loss: 0.0060\n",
      "Epoch [2/5], Step [140/195], Loss: 0.0088\n",
      "Epoch [2/5], Step [160/195], Loss: 0.0091\n",
      "Epoch [2/5], Step [180/195], Loss: 0.0051\n",
      "Epoch [3/5], Step [20/195], Loss: 0.0024\n",
      "Epoch [3/5], Step [40/195], Loss: 0.0022\n",
      "Epoch [3/5], Step [60/195], Loss: 0.0064\n",
      "Epoch [3/5], Step [80/195], Loss: 0.0038\n",
      "Epoch [3/5], Step [100/195], Loss: 0.0070\n",
      "Epoch [3/5], Step [120/195], Loss: 0.0024\n",
      "Epoch [3/5], Step [140/195], Loss: 0.0013\n",
      "Epoch [3/5], Step [160/195], Loss: 0.0025\n",
      "Epoch [3/5], Step [180/195], Loss: 0.0020\n",
      "Epoch [4/5], Step [20/195], Loss: 0.0014\n",
      "Epoch [4/5], Step [40/195], Loss: 0.0554\n",
      "Epoch [4/5], Step [60/195], Loss: 0.0090\n",
      "Epoch [4/5], Step [80/195], Loss: 0.0099\n",
      "Epoch [4/5], Step [100/195], Loss: 0.0017\n",
      "Epoch [4/5], Step [120/195], Loss: 0.0050\n",
      "Epoch [4/5], Step [140/195], Loss: 0.0029\n",
      "Epoch [4/5], Step [160/195], Loss: 0.0035\n",
      "Epoch [4/5], Step [180/195], Loss: 0.0013\n",
      "Epoch [5/5], Step [20/195], Loss: 0.0029\n",
      "Epoch [5/5], Step [40/195], Loss: 0.0068\n",
      "Epoch [5/5], Step [60/195], Loss: 0.0024\n",
      "Epoch [5/5], Step [80/195], Loss: 0.0028\n",
      "Epoch [5/5], Step [100/195], Loss: 0.0092\n",
      "Epoch [5/5], Step [120/195], Loss: 0.0004\n",
      "Epoch [5/5], Step [140/195], Loss: 0.0024\n",
      "Epoch [5/5], Step [160/195], Loss: 0.0008\n",
      "Epoch [5/5], Step [180/195], Loss: 0.0006\n"
     ]
    }
   ],
   "source": [
    "total_step = len(trainloader)\n",
    "start_epoch = 0\n",
    "num_epochs_total = 5\n",
    "\n",
    "for epoch in range(start_epoch, num_epochs_total):\n",
    "    for i, (images, labels) in enumerate(trainloader):\n",
    "        \n",
    "        outputs = model(images.to('cuda'))\n",
    "        loss = criterion(outputs.to('cuda'), labels.to('cuda'))\n",
    "        \n",
    "        optimizer.zero_grad()\n",
    "        loss.backward()\n",
    "        optimizer.step()\n",
    "        \n",
    "        if (i+1) % 20 == 0:\n",
    "            print ('Epoch [{}/{}], Step [{}/{}], Loss: {:.4f}' \n",
    "                   .format(epoch+1, num_epochs_total, i+1, total_step, loss.item()))"
   ]
  },
  {
   "cell_type": "markdown",
   "metadata": {},
   "source": [
    "## Finding the accuracy of trained model"
   ]
  },
  {
   "cell_type": "code",
   "execution_count": 12,
   "metadata": {
    "execution": {
     "iopub.execute_input": "2021-12-20T15:55:28.275126Z",
     "iopub.status.busy": "2021-12-20T15:55:28.274842Z",
     "iopub.status.idle": "2021-12-20T15:55:56.678388Z",
     "shell.execute_reply": "2021-12-20T15:55:56.676677Z",
     "shell.execute_reply.started": "2021-12-20T15:55:28.275078Z"
    }
   },
   "outputs": [
    {
     "name": "stdout",
     "output_type": "stream",
     "text": [
      "Accuracy of the model on the test images: 100.0%\n"
     ]
    }
   ],
   "source": [
    "model.eval()  \n",
    "with torch.no_grad():\n",
    "    correct = 0\n",
    "    total = 0\n",
    "    for images, labels in testloader:\n",
    "\n",
    "        outputs = model(images.to(\"cuda\"))\n",
    "        _, predicted = torch.max(outputs.data, 1)\n",
    "        total += labels.size(0)\n",
    "        correct += (predicted.to(\"cuda\") == labels.to(\"cuda\")).sum().item()\n",
    "\n",
    "    print('Accuracy of the model on the test images: {}%'\\\n",
    "          .format(100 * correct / total))"
   ]
  },
  {
   "cell_type": "code",
   "execution_count": null,
   "metadata": {},
   "outputs": [],
   "source": []
  }
 ],
 "metadata": {
  "kernelspec": {
   "display_name": "Python 3 (ipykernel)",
   "language": "python",
   "name": "python3"
  },
  "language_info": {
   "codemirror_mode": {
    "name": "ipython",
    "version": 3
   },
   "file_extension": ".py",
   "mimetype": "text/x-python",
   "name": "python",
   "nbconvert_exporter": "python",
   "pygments_lexer": "ipython3",
   "version": "3.9.10"
  }
 },
 "nbformat": 4,
 "nbformat_minor": 4
}
